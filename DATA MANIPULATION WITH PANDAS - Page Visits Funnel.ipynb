{
 "cells": [
  {
   "cell_type": "markdown",
   "id": "d9a2cc93",
   "metadata": {},
   "source": [
    "# Page Visits Funnel\n",
    "\n",
    "Data analysis on Cool T-Shirts Inc visiti,cart,checkout and purchase time data.\n",
    "\n",
    "Objective: analyze data on visits to their website and build a funnel, which is a description of how many people continue to the next step of a multi-step process."
   ]
  },
  {
   "cell_type": "code",
   "execution_count": null,
   "id": "57ba3e1c",
   "metadata": {},
   "outputs": [],
   "source": [
    "import codecademylib3\n",
    "import pandas as pd\n",
    "\n",
    "visits = pd.read_csv('visits.csv',parse_dates=[1])\n",
    "cart = pd.read_csv('cart.csv',parse_dates=[1])\n",
    "checkout = pd.read_csv('checkout.csv', parse_dates=[1])\n",
    "purchase = pd.read_csv('purchase.csv',parse_dates=[1])"
   ]
  },
  {
   "cell_type": "code",
   "execution_count": null,
   "id": "3816474f",
   "metadata": {},
   "outputs": [],
   "source": [
    "#Combine visits and cart using a left merge.\n",
    "cart_visits = pd.merge(visits, cart, how='left')\n",
    "print(len(cart_visits))\n",
    "\n",
    "#How many of the timestamps are null for the column cart_time?\n",
    "print(len(cart_visits[cart_visits.cart_time.isnull()]))\n",
    "\n",
    "#What percent of users who visited Cool T-Shirts Inc. ended up not placing a t-shirt in their cart?\n",
    "visit_no_cart = len(cart_visits[cart_visits.cart_time.isnull()])\n",
    "total_num1 = float(len(cart_visits))\n",
    "did_not_cart = visit_no_cart/total_num1\n",
    "\n",
    "#left merge for cart and checkout and count null values. What percentage of users put items in their cart, but did not proceed to checkout?\n",
    "cart_checkout = pd.merge(visits, checkout, how='left')\n",
    "print(len(cart_checkout[cart_checkout.checkout_time.isnull()]))\n",
    "\n",
    "#Merge all four steps of the funnel, in order, using a series of left merges. Save the results to the variable all_data.\n",
    "all_data = visits.merge(cart,how='left').merge(checkout, how='left').merge(purchase, how='left')\n",
    "\n",
    "#What percentage of users proceeded to checkout, but did not purchase a t-shirt?\n",
    "no_checkout_purchase = len(all_data[(~all_data.checkout_time.isnull()) & (all_data.purchase_time.isnull())])\n",
    "total_num2 = float(len(all_data))\n",
    "did_not_purchase = no_checkout_purchase/total_num2\n",
    "\n",
    "#Which step of the funnel is weakest (i.e., has the highest percentage of users not completing it)?\n",
    "no_visit = all_data['visit_time'].isnull().sum()\n",
    "no_art = all_data['cart_time'].isnull().sum()\n",
    "no_checkout = all_data['checkout_time'].isnull().sum()\n",
    "no_purchase = all_data['purchase_time'].isnull().sum()\n",
    "\n",
    "#calculate the average time from initial visit to final purchase. Add a column that is the difference between purchase_time and visit_time.\n",
    "all_data['purch_visit'] = all_data.purchase_time - all_data.visit_time\n"
   ]
  }
 ],
 "metadata": {
  "kernelspec": {
   "display_name": "Python 3",
   "language": "python",
   "name": "python3"
  },
  "language_info": {
   "codemirror_mode": {
    "name": "ipython",
    "version": 3
   },
   "file_extension": ".py",
   "mimetype": "text/x-python",
   "name": "python",
   "nbconvert_exporter": "python",
   "pygments_lexer": "ipython3",
   "version": "3.8.8"
  }
 },
 "nbformat": 4,
 "nbformat_minor": 5
}
